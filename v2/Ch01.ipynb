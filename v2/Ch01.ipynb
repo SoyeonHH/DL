{
 "cells": [
  {
   "cell_type": "markdown",
   "id": "hawaiian-mountain",
   "metadata": {},
   "source": [
    "# Ch01. 신경망 복습"
   ]
  },
  {
   "cell_type": "markdown",
   "id": "suspected-chemical",
   "metadata": {},
   "source": [
    "## 1.1. 수학과 파이썬 복습"
   ]
  },
  {
   "cell_type": "markdown",
   "id": "brown-sewing",
   "metadata": {},
   "source": [
    "#### 벡터와 행렬 생성"
   ]
  },
  {
   "cell_type": "code",
   "execution_count": 1,
   "id": "missing-tiger",
   "metadata": {},
   "outputs": [],
   "source": [
    "import numpy as np\n",
    "\n",
    "x = np.array([1, 2, 3])"
   ]
  },
  {
   "cell_type": "code",
   "execution_count": 2,
   "id": "premier-serbia",
   "metadata": {},
   "outputs": [
    {
     "data": {
      "text/plain": [
       "numpy.ndarray"
      ]
     },
     "execution_count": 2,
     "metadata": {},
     "output_type": "execute_result"
    }
   ],
   "source": [
    "# 클래스 이름 표시\n",
    "x.__class__"
   ]
  },
  {
   "cell_type": "code",
   "execution_count": 3,
   "id": "parliamentary-chapter",
   "metadata": {},
   "outputs": [
    {
     "data": {
      "text/plain": [
       "(3,)"
      ]
     },
     "execution_count": 3,
     "metadata": {},
     "output_type": "execute_result"
    }
   ],
   "source": [
    "x.shape"
   ]
  },
  {
   "cell_type": "code",
   "execution_count": 4,
   "id": "major-correlation",
   "metadata": {},
   "outputs": [
    {
     "data": {
      "text/plain": [
       "1"
      ]
     },
     "execution_count": 4,
     "metadata": {},
     "output_type": "execute_result"
    }
   ],
   "source": [
    "x.ndim"
   ]
  },
  {
   "cell_type": "code",
   "execution_count": 6,
   "id": "enclosed-tragedy",
   "metadata": {},
   "outputs": [],
   "source": [
    "W = np.array([[1, 2, 3], [4, 5, 6]])"
   ]
  },
  {
   "cell_type": "code",
   "execution_count": 7,
   "id": "another-publicity",
   "metadata": {},
   "outputs": [
    {
     "data": {
      "text/plain": [
       "(2, 3)"
      ]
     },
     "execution_count": 7,
     "metadata": {},
     "output_type": "execute_result"
    }
   ],
   "source": [
    "W.shape"
   ]
  },
  {
   "cell_type": "code",
   "execution_count": 8,
   "id": "facial-wrapping",
   "metadata": {},
   "outputs": [
    {
     "data": {
      "text/plain": [
       "2"
      ]
     },
     "execution_count": 8,
     "metadata": {},
     "output_type": "execute_result"
    }
   ],
   "source": [
    "W.ndim"
   ]
  },
  {
   "cell_type": "markdown",
   "id": "elder-insertion",
   "metadata": {},
   "source": [
    "#### 행렬의 원소별 연산"
   ]
  },
  {
   "cell_type": "code",
   "execution_count": 9,
   "id": "falling-queen",
   "metadata": {},
   "outputs": [],
   "source": [
    "W = np.array([[1,2,3],[4,5,6]])\n",
    "X = np.array([[0,1,2],[3,4,5]])"
   ]
  },
  {
   "cell_type": "code",
   "execution_count": 10,
   "id": "relevant-people",
   "metadata": {},
   "outputs": [
    {
     "data": {
      "text/plain": [
       "array([[ 1,  3,  5],\n",
       "       [ 7,  9, 11]])"
      ]
     },
     "execution_count": 10,
     "metadata": {},
     "output_type": "execute_result"
    }
   ],
   "source": [
    "W + X"
   ]
  },
  {
   "cell_type": "code",
   "execution_count": 11,
   "id": "intensive-effect",
   "metadata": {},
   "outputs": [
    {
     "data": {
      "text/plain": [
       "array([[ 0,  2,  6],\n",
       "       [12, 20, 30]])"
      ]
     },
     "execution_count": 11,
     "metadata": {},
     "output_type": "execute_result"
    }
   ],
   "source": [
    "W * X"
   ]
  },
  {
   "cell_type": "markdown",
   "id": "planned-culture",
   "metadata": {},
   "source": [
    "#### 브로드캐스트(Broadcast)"
   ]
  },
  {
   "cell_type": "markdown",
   "id": "sophisticated-characteristic",
   "metadata": {},
   "source": [
    "넘파이의 다차원 배열에서는 형상이 다른 배열끼리도 연산할 수 있다."
   ]
  },
  {
   "cell_type": "code",
   "execution_count": 12,
   "id": "cosmetic-acrobat",
   "metadata": {},
   "outputs": [
    {
     "data": {
      "text/plain": [
       "array([[10, 20],\n",
       "       [30, 40]])"
      ]
     },
     "execution_count": 12,
     "metadata": {},
     "output_type": "execute_result"
    }
   ],
   "source": [
    "A = np.array([[1,2],[3,4]])\n",
    "A * 10"
   ]
  },
  {
   "cell_type": "code",
   "execution_count": 14,
   "id": "ordinary-print",
   "metadata": {},
   "outputs": [
    {
     "data": {
      "text/plain": [
       "array([[10, 40],\n",
       "       [30, 80]])"
      ]
     },
     "execution_count": 14,
     "metadata": {},
     "output_type": "execute_result"
    }
   ],
   "source": [
    "A = np.array([[1,2],[3,4]])\n",
    "b = np.array([10,20])\n",
    "A * b"
   ]
  },
  {
   "cell_type": "markdown",
   "id": "choice-valentine",
   "metadata": {},
   "source": [
    "#### 벡터의 내적"
   ]
  },
  {
   "cell_type": "code",
   "execution_count": 15,
   "id": "adjustable-weekend",
   "metadata": {},
   "outputs": [
    {
     "data": {
      "text/plain": [
       "32"
      ]
     },
     "execution_count": 15,
     "metadata": {},
     "output_type": "execute_result"
    }
   ],
   "source": [
    "a = np.array([1,2,3])\n",
    "b = np.array([4,5,6])\n",
    "np.dot(a, b)"
   ]
  },
  {
   "cell_type": "markdown",
   "id": "cultural-arizona",
   "metadata": {},
   "source": [
    "#### 행렬의 곱"
   ]
  },
  {
   "cell_type": "code",
   "execution_count": 16,
   "id": "lesser-funeral",
   "metadata": {},
   "outputs": [
    {
     "data": {
      "text/plain": [
       "array([[19, 22],\n",
       "       [43, 50]])"
      ]
     },
     "execution_count": 16,
     "metadata": {},
     "output_type": "execute_result"
    }
   ],
   "source": [
    "A = np.array([[1,2],[3,4]])\n",
    "B = np.array([[5,6],[7,8]])\n",
    "np.matmul(A, B)    # np.dot(A, B)"
   ]
  },
  {
   "cell_type": "markdown",
   "id": "funny-duncan",
   "metadata": {},
   "source": [
    "## 1.2. 신경망의 추론"
   ]
  },
  {
   "cell_type": "markdown",
   "id": "protected-elite",
   "metadata": {},
   "source": [
    "#### TwoLayerNet의 구현"
   ]
  },
  {
   "cell_type": "code",
   "execution_count": 18,
   "id": "invalid-security",
   "metadata": {},
   "outputs": [
    {
     "name": "stdout",
     "output_type": "stream",
     "text": [
      "[[ 0.64150306 -1.28566536 -3.06957188]\n",
      " [ 0.73232601 -1.26447365 -3.04356888]\n",
      " [ 0.95119429 -0.58505618 -2.61847467]\n",
      " [ 0.67018403 -1.29578995 -3.06845522]\n",
      " [ 0.44440218 -0.75704805 -3.06538385]\n",
      " [ 0.72656973 -1.24392683 -3.02660804]\n",
      " [ 0.74718548 -1.19750913 -2.99238785]\n",
      " [ 0.69708256 -1.14502679 -2.97717468]\n",
      " [ 1.05545781 -0.62765424 -2.59127873]\n",
      " [ 0.86471587 -0.91621558 -2.80058641]]\n"
     ]
    }
   ],
   "source": [
    "# coding: utf-8\n",
    "import numpy as np\n",
    "\n",
    "\n",
    "class Sigmoid:\n",
    "    def __init__(self):\n",
    "        self.params = []\n",
    "\n",
    "    def forward(self, x):\n",
    "        return 1 / (1 + np.exp(-x))\n",
    "\n",
    "\n",
    "class Affine:\n",
    "    def __init__(self, W, b):\n",
    "        self.params = [W, b]\n",
    "\n",
    "    def forward(self, x):\n",
    "        W, b = self.params\n",
    "        out = np.dot(x, W) + b\n",
    "        return out\n",
    "\n",
    "\n",
    "class TwoLayerNet:\n",
    "    def __init__(self, input_size, hidden_size, output_size):\n",
    "        I, H, O = input_size, hidden_size, output_size\n",
    "\n",
    "        # 가중치와 편향 초기화\n",
    "        W1 = np.random.randn(I, H)\n",
    "        b1 = np.random.randn(H)\n",
    "        W2 = np.random.randn(H, O)\n",
    "        b2 = np.random.randn(O)\n",
    "\n",
    "        # 계층 생성\n",
    "        self.layers = [\n",
    "            Affine(W1, b1),\n",
    "            Sigmoid(),\n",
    "            Affine(W2, b2)\n",
    "        ]\n",
    "\n",
    "        # 모든 가중치를 리스트에 모은다.\n",
    "        self.params = []\n",
    "        for layer in self.layers:\n",
    "            self.params += layer.params\n",
    "\n",
    "    def predict(self, x):\n",
    "        for layer in self.layers:\n",
    "            x = layer.forward(x)\n",
    "        return x\n",
    "\n",
    "\n",
    "x = np.random.randn(10, 2)\n",
    "model = TwoLayerNet(2, 4, 3)\n",
    "s = model.predict(x)\n",
    "print(s)"
   ]
  },
  {
   "cell_type": "code",
   "execution_count": null,
   "id": "julian-perfume",
   "metadata": {},
   "outputs": [],
   "source": []
  }
 ],
 "metadata": {
  "kernelspec": {
   "display_name": "Python 3",
   "language": "python",
   "name": "python3"
  },
  "language_info": {
   "codemirror_mode": {
    "name": "ipython",
    "version": 3
   },
   "file_extension": ".py",
   "mimetype": "text/x-python",
   "name": "python",
   "nbconvert_exporter": "python",
   "pygments_lexer": "ipython3",
   "version": "3.8.7"
  }
 },
 "nbformat": 4,
 "nbformat_minor": 5
}
