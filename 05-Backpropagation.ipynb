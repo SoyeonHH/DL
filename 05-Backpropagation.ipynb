{
 "cells": [
  {
   "cell_type": "markdown",
   "id": "skilled-politics",
   "metadata": {},
   "source": [
    "# 05. 오차역전파법"
   ]
  },
  {
   "cell_type": "markdown",
   "id": "english-mineral",
   "metadata": {},
   "source": [
    "가중치 매개변수의 기울기를 효율적으로 계산하기 위해 **오차역전파법(backpropagation)** 을 이용한다."
   ]
  },
  {
   "cell_type": "markdown",
   "id": "determined-theory",
   "metadata": {},
   "source": [
    "## 5.1. 계산 그래프"
   ]
  },
  {
   "cell_type": "markdown",
   "id": "mighty-oxford",
   "metadata": {},
   "source": [
    "* 계산 그래프를 사용하면 **국소적 계산** 이 가능하다.\n",
    "* 중간에 구한 미분 결과를 공유할 수 있어서 다수의 미분을 효율적으로 계산할 수 있다."
   ]
  },
  {
   "cell_type": "markdown",
   "id": "mounted-smile",
   "metadata": {},
   "source": [
    "## 5.2. 연쇄법칙"
   ]
  },
  {
   "cell_type": "markdown",
   "id": "funded-fitting",
   "metadata": {},
   "source": [
    "* 합성함수의 미분은 합성함수를 구성하는 각 함수의 미분의 곱으로 구할 수 있다.\n",
    "* 계산 그래프의 역전파는 연쇄법칙의 원리를 따른다."
   ]
  },
  {
   "cell_type": "markdown",
   "id": "blank-mexico",
   "metadata": {},
   "source": [
    "## 5.3. 역전파"
   ]
  },
  {
   "cell_type": "markdown",
   "id": "ancient-gnome",
   "metadata": {},
   "source": [
    "* **덧셈 노드**의 역전파는 입력 신호를 그대로 다음 노드에 출력한다."
   ]
  },
  {
   "cell_type": "markdown",
   "id": "professional-alfred",
   "metadata": {},
   "source": [
    "* **곱셈 노드**의 역전파는 입력 신호에 순전파 때의 입력값들을 '서로 바꾼 값'을 곱해서 구할 수 있다.\n",
    "* 곱셈 노드를 구현할 때에는 순전파의 입력 신호를 변수에 저장해둔다."
   ]
  },
  {
   "cell_type": "markdown",
   "id": "fantastic-pursuit",
   "metadata": {},
   "source": [
    "## 5.4. 단순한 계층 구현하기"
   ]
  },
  {
   "cell_type": "markdown",
   "id": "pediatric-terrorism",
   "metadata": {},
   "source": [
    "* 모든 계층은 forward()와 backward()라는 공통의 메서드(인터페이스)를 갖도록 구현한다.\n",
    "* forward()는 순전파, backward()는 역전파를 처리한다."
   ]
  },
  {
   "cell_type": "markdown",
   "id": "offshore-complement",
   "metadata": {},
   "source": [
    "#### 5.4.1. 곱셈 계층"
   ]
  },
  {
   "cell_type": "code",
   "execution_count": 2,
   "id": "narrow-palace",
   "metadata": {},
   "outputs": [],
   "source": [
    "class MulLayer:\n",
    "    def __init__(self):\n",
    "        self.x = None\n",
    "        self.y = None\n",
    "\n",
    "    def forward(self, x, y):\n",
    "        self.x = x\n",
    "        self.y = y                \n",
    "        out = x * y\n",
    "\n",
    "        return out\n",
    "\n",
    "    def backward(self, dout):\n",
    "        dx = dout * self.y  # x와 y를 바꾼다.\n",
    "        dy = dout * self.x\n",
    "\n",
    "        return dx, dy"
   ]
  },
  {
   "cell_type": "code",
   "execution_count": 3,
   "id": "sophisticated-combat",
   "metadata": {},
   "outputs": [
    {
     "name": "stdout",
     "output_type": "stream",
     "text": [
      "220.00000000000003\n"
     ]
    }
   ],
   "source": [
    "apple = 100\n",
    "apple_num = 2\n",
    "tax = 1.1\n",
    "\n",
    "mul_apple_layer = MulLayer()\n",
    "mul_tax_layer = MulLayer()\n",
    "\n",
    "# forward\n",
    "apple_price = mul_apple_layer.forward(apple, apple_num)\n",
    "price = mul_tax_layer.forward(apple_price, tax)\n",
    "\n",
    "# output\n",
    "print(price) # 220"
   ]
  },
  {
   "cell_type": "code",
   "execution_count": 4,
   "id": "mounted-design",
   "metadata": {},
   "outputs": [
    {
     "name": "stdout",
     "output_type": "stream",
     "text": [
      "2.2 110.00000000000001 200\n"
     ]
    }
   ],
   "source": [
    "# backward\n",
    "dprice = 1\n",
    "dapple_price, dtax = mul_tax_layer.backward(dprice)\n",
    "dapple, dapple_num = mul_apple_layer.backward(dapple_price)\n",
    "\n",
    "# 갹 변수에 대한 미분\n",
    "print(dapple, dapple_num, dtax) # 2.2 110 200"
   ]
  },
  {
   "cell_type": "markdown",
   "id": "associate-family",
   "metadata": {},
   "source": [
    "#### 5.4.2. 덧셈 계층"
   ]
  },
  {
   "cell_type": "code",
   "execution_count": 5,
   "id": "recorded-shower",
   "metadata": {},
   "outputs": [],
   "source": [
    "class AddLayer:\n",
    "    def __init__(self):\n",
    "        pass\n",
    "\n",
    "    def forward(self, x, y):\n",
    "        out = x + y\n",
    "\n",
    "        return out\n",
    "\n",
    "    def backward(self, dout):\n",
    "        dx = dout * 1\n",
    "        dy = dout * 1\n",
    "\n",
    "        return dx, dy"
   ]
  },
  {
   "cell_type": "markdown",
   "id": "solid-lighter",
   "metadata": {},
   "source": [
    "#### buy_apple_orange"
   ]
  },
  {
   "cell_type": "code",
   "execution_count": 6,
   "id": "annual-element",
   "metadata": {},
   "outputs": [
    {
     "name": "stdout",
     "output_type": "stream",
     "text": [
      "price: 715\n",
      "dApple: 2.2\n",
      "dApple_num: 110\n",
      "dOrange: 3.3000000000000003\n",
      "dOrange_num: 165\n",
      "dTax: 650\n"
     ]
    }
   ],
   "source": [
    "apple = 100\n",
    "apple_num = 2\n",
    "orange = 150\n",
    "orange_num = 3\n",
    "tax = 1.1\n",
    "\n",
    "# layer\n",
    "mul_apple_layer = MulLayer()\n",
    "mul_orange_layer = MulLayer()\n",
    "add_apple_orange_layer = AddLayer()\n",
    "mul_tax_layer = MulLayer()\n",
    "\n",
    "# forward\n",
    "apple_price = mul_apple_layer.forward(apple, apple_num)  # (1)\n",
    "orange_price = mul_orange_layer.forward(orange, orange_num)  # (2)\n",
    "all_price = add_apple_orange_layer.forward(apple_price, orange_price)  # (3)\n",
    "price = mul_tax_layer.forward(all_price, tax)  # (4)\n",
    "\n",
    "# backward\n",
    "dprice = 1\n",
    "dall_price, dtax = mul_tax_layer.backward(dprice)  # (4)\n",
    "dapple_price, dorange_price = add_apple_orange_layer.backward(dall_price)  # (3)\n",
    "dorange, dorange_num = mul_orange_layer.backward(dorange_price)  # (2)\n",
    "dapple, dapple_num = mul_apple_layer.backward(dapple_price)  # (1)\n",
    "\n",
    "print(\"price:\", int(price))\n",
    "print(\"dApple:\", dapple)\n",
    "print(\"dApple_num:\", int(dapple_num))\n",
    "print(\"dOrange:\", dorange)\n",
    "print(\"dOrange_num:\", int(dorange_num))\n",
    "print(\"dTax:\", dtax)"
   ]
  },
  {
   "cell_type": "markdown",
   "id": "appointed-investment",
   "metadata": {},
   "source": [
    "## 5.5. 활성화 함수 계층 구현하기"
   ]
  },
  {
   "cell_type": "markdown",
   "id": "tropical-score",
   "metadata": {},
   "source": [
    "#### 5.5.1. ReLU 계층"
   ]
  },
  {
   "cell_type": "code",
   "execution_count": 8,
   "id": "genetic-asset",
   "metadata": {},
   "outputs": [],
   "source": [
    "import numpy as np\n",
    "\n",
    "class Relu:\n",
    "    def __init__(self):\n",
    "        self.mask = None  # mask : True/False로 구성된 넘파이 배열 (순전파 입력값이 0 이하면 True, 그 외는 False)\n",
    "\n",
    "    def forward(self, x):\n",
    "        self.mask = (x <= 0)\n",
    "        out = x.copy()\n",
    "        out[self.mask] = 0\n",
    "\n",
    "        return out\n",
    "\n",
    "    def backward(self, dout):\n",
    "        dout[self.mask] = 0\n",
    "        dx = dout\n",
    "\n",
    "        return dx"
   ]
  },
  {
   "cell_type": "code",
   "execution_count": 9,
   "id": "young-elimination",
   "metadata": {},
   "outputs": [
    {
     "name": "stdout",
     "output_type": "stream",
     "text": [
      "[[ 1.  -0.5]\n",
      " [ 2.   3. ]]\n"
     ]
    }
   ],
   "source": [
    "x = np.array([[1.0, -0.5], [2.0, 3.0]])\n",
    "print(x)"
   ]
  },
  {
   "cell_type": "code",
   "execution_count": 10,
   "id": "characteristic-indian",
   "metadata": {},
   "outputs": [
    {
     "name": "stdout",
     "output_type": "stream",
     "text": [
      "[[False  True]\n",
      " [False False]]\n"
     ]
    }
   ],
   "source": [
    " # mask : True/False로 구성된 넘파이 배열 (순전파 입력값이 0 이하면 True, 그 외는 False)\n",
    "mask = (x <= 0)\n",
    "print(mask)"
   ]
  },
  {
   "cell_type": "markdown",
   "id": "working-hurricane",
   "metadata": {},
   "source": [
    "#### 5.5.2. Sigmoid 계층"
   ]
  },
  {
   "cell_type": "code",
   "execution_count": 11,
   "id": "generic-reducing",
   "metadata": {},
   "outputs": [],
   "source": [
    "class Sigmoid:\n",
    "    def __init__(self):\n",
    "        self.out = None\n",
    "\n",
    "    def forward(self, x):\n",
    "        out = sigmoid(x)\n",
    "        self.out = out\n",
    "        return out\n",
    "\n",
    "    def backward(self, dout):\n",
    "        dx = dout * (1.0 - self.out) * self.out\n",
    "\n",
    "        return dx"
   ]
  },
  {
   "cell_type": "code",
   "execution_count": null,
   "id": "brazilian-murder",
   "metadata": {},
   "outputs": [],
   "source": []
  }
 ],
 "metadata": {
  "kernelspec": {
   "display_name": "Python 3",
   "language": "python",
   "name": "python3"
  },
  "language_info": {
   "codemirror_mode": {
    "name": "ipython",
    "version": 3
   },
   "file_extension": ".py",
   "mimetype": "text/x-python",
   "name": "python",
   "nbconvert_exporter": "python",
   "pygments_lexer": "ipython3",
   "version": "3.8.7"
  }
 },
 "nbformat": 4,
 "nbformat_minor": 5
}
