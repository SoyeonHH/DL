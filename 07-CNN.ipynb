{
 "cells": [
  {
   "cell_type": "markdown",
   "id": "cleared-flesh",
   "metadata": {},
   "source": [
    "# 합성곱 신경망(CNN)"
   ]
  },
  {
   "cell_type": "markdown",
   "id": "cross-minutes",
   "metadata": {},
   "source": [
    "## 01 합성곱/풀링 계층 구현하기"
   ]
  },
  {
   "cell_type": "markdown",
   "id": "pressing-abraham",
   "metadata": {},
   "source": [
    "### 4차원 배열"
   ]
  },
  {
   "cell_type": "markdown",
   "id": "blessed-biology",
   "metadata": {},
   "source": [
    "CNN에서 계층 사이를 흐르는 데이터는 4차원이다."
   ]
  },
  {
   "cell_type": "code",
   "execution_count": 1,
   "id": "pending-poison",
   "metadata": {},
   "outputs": [
    {
     "data": {
      "text/plain": [
       "(10, 1, 28, 28)"
      ]
     },
     "execution_count": 1,
     "metadata": {},
     "output_type": "execute_result"
    }
   ],
   "source": [
    "import numpy as np\n",
    "\n",
    "# 높이 28, 너비 28, 채널 1개인 데이터 10개를 무작위로 생성\n",
    "x = np.random.rand(10, 1, 28, 28)\n",
    "x.shape"
   ]
  },
  {
   "cell_type": "code",
   "execution_count": 2,
   "id": "spare-guess",
   "metadata": {},
   "outputs": [
    {
     "data": {
      "text/plain": [
       "(1, 28, 28)"
      ]
     },
     "execution_count": 2,
     "metadata": {},
     "output_type": "execute_result"
    }
   ],
   "source": [
    "# 10개 중 첫 번째 데이터에 접근\n",
    "x[0].shape"
   ]
  },
  {
   "cell_type": "code",
   "execution_count": 4,
   "id": "confidential-purse",
   "metadata": {},
   "outputs": [
    {
     "data": {
      "text/plain": [
       "(28, 28)"
      ]
     },
     "execution_count": 4,
     "metadata": {},
     "output_type": "execute_result"
    }
   ],
   "source": [
    "# 첫 번째 채널의 공간 데이터에 접근\n",
    "x[0, 0].shape  # 또는 x[0][0]"
   ]
  },
  {
   "cell_type": "markdown",
   "id": "associate-argentina",
   "metadata": {},
   "source": [
    "### for문 대신 im2col로 데이터 전개하기"
   ]
  },
  {
   "cell_type": "markdown",
   "id": "about-relationship",
   "metadata": {},
   "source": [
    "* im2col : 입력 데이터를 필터링(가중치 계산)하기 좋게 전개하는(펼치는) 함수, image to column, 이미지에서 행렬로\n",
    "\n",
    "* 카페(Cafe)나 체이너(Chainer) 등의 딥러닝 프레임워크에서 합성곱 계층 구현할 때 사용\n",
    "\n",
    "* 필터 적용 영역이 겹치게 되면 im2col이 메모리를 더 많이 소비하는 단점이 있지만, 행렬 계산으로 만들면 선형 대수 라이브러리를 활용해 효율을 높일 수 있다."
   ]
  },
  {
   "cell_type": "markdown",
   "id": "front-lottery",
   "metadata": {},
   "source": [
    "### im2col 이용하여 합성곱 계층 구현하기"
   ]
  },
  {
   "cell_type": "code",
   "execution_count": 5,
   "id": "advised-selection",
   "metadata": {},
   "outputs": [
    {
     "name": "stdout",
     "output_type": "stream",
     "text": [
      "(9, 75)\n",
      "(90, 75)\n"
     ]
    }
   ],
   "source": [
    "# im2col(input_data, filter_h, filter_w, stride=1, pad=0)\n",
    "\n",
    "import sys, os\n",
    "os.chdir(\"C:/Users/Soyeon/Desktop/Study/DL-Study/밑시딥/deep-learning-from-scratch/ch07/\")\n",
    "sys.path.append(os.pardir)\n",
    "from common.util import im2col\n",
    "\n",
    "x1 = np.random.rand(1, 3, 7, 7) # (데이터의 수, 채널 수, 높이, 너비)\n",
    "col1 = im2col(x1, 5, 5, stride=1, pad=0)\n",
    "print(col1.shape)\n",
    "\n",
    "x2 = np.random.rand(10, 3, 7, 7) # 데이터 10개\n",
    "col2 = im2col(x2, 5, 5, stride=1, pad=0)\n",
    "print(col2.shape)"
   ]
  },
  {
   "cell_type": "code",
   "execution_count": 6,
   "id": "naughty-massachusetts",
   "metadata": {},
   "outputs": [],
   "source": [
    "class Convolution:\n",
    "    def __init__(self, W, b, stride=1, pad=0):\n",
    "        self.W = W\n",
    "        self.b = b\n",
    "        self.stride = stride\n",
    "        self.pad = pad\n",
    "        \n",
    "    def forward(self, x):\n",
    "        FN, C, FH, FW = self.W.shape\n",
    "        N, C, H, W = x.shape\n",
    "        out_h = int(1 + (H + 2*self.pad - FH) / self.stride)\n",
    "        out_w = int(1 + (W + 2*self.pad - FW) / self.stride)\n",
    "        \n",
    "        col = im2col(x, FH, FW, self.stride, self.pad)\n",
    "        col_W = self.W.reshape(FN, -1).T # 필터 전개\n",
    "        out = np.dot(col, col_W) + self.b\n",
    "        \n",
    "        out = out.reshape(N, out_h, out_w, -1).transpose(0, 3, 1, 2) # 축 순서 변경 (N,H,W,C) -> (N,C,H,W)\n",
    "        \n",
    "        return out"
   ]
  },
  {
   "cell_type": "markdown",
   "id": "convinced-medicare",
   "metadata": {},
   "source": [
    "* 합성곱 계층의 역전파 구현은 col2im 을 사용하면 된다"
   ]
  },
  {
   "cell_type": "code",
   "execution_count": null,
   "id": "organic-michael",
   "metadata": {},
   "outputs": [],
   "source": []
  }
 ],
 "metadata": {
  "kernelspec": {
   "display_name": "Python 3",
   "language": "python",
   "name": "python3"
  },
  "language_info": {
   "codemirror_mode": {
    "name": "ipython",
    "version": 3
   },
   "file_extension": ".py",
   "mimetype": "text/x-python",
   "name": "python",
   "nbconvert_exporter": "python",
   "pygments_lexer": "ipython3",
   "version": "3.8.7"
  }
 },
 "nbformat": 4,
 "nbformat_minor": 5
}
